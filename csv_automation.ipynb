{
 "cells": [
  {
   "cell_type": "code",
   "execution_count": null,
   "outputs": [],
   "source": [
    "#! Python3\n",
    "# FILENAME RemoveCSVHeader\n",
    "\n",
    "import csv, os\n",
    "\n",
    "os.makedirs('headerRemoved', exist_ok=True)\n",
    "\n",
    "# Loop through ever file in the current working directory\n",
    "for csvFilename in os.listdir('.'):\n",
    "    if not csvFilename.endswith('.csv'):\n",
    "        continue # skip non csv files\n",
    "\n",
    "    print('Removing header from ' + csvFilename + '...')\n",
    "\n",
    "    # TODO: Read in the CSV file in (skipping first row).\n",
    "    csvRows = []\n",
    "    csvFileObj = open(csvFilename)\n",
    "    readerObj = csv.reader(csvFileObj)\n",
    "    for row in readerObj:\n",
    "        if readerObj.line_num == 1:\n",
    "            contineu # skip first row\n",
    "        csvRows.append(row)\n",
    "    csvFileObj.close()\n",
    "\n",
    "    # TODO: Write out the csv file.\n",
    "    csvFileObj = open(os.path.join('headerRemoved', csvFilename), 'w',\n",
    "                      newline='')\n",
    "    csvWriter = csv.writer(csvFileObj)\n",
    "    for row in csvRows:\n",
    "        csvWriter.writerow(row)\n",
    "        csvFileObj.close()"
   ],
   "metadata": {
    "collapsed": false,
    "pycharm": {
     "name": "#%%\n"
    }
   }
  }
 ],
 "metadata": {
  "kernelspec": {
   "display_name": "Python 3",
   "language": "python",
   "name": "python3"
  },
  "language_info": {
   "codemirror_mode": {
    "name": "ipython",
    "version": 2
   },
   "file_extension": ".py",
   "mimetype": "text/x-python",
   "name": "python",
   "nbconvert_exporter": "python",
   "pygments_lexer": "ipython2",
   "version": "2.7.6"
  },
  "pycharm": {
   "stem_cell": {
    "cell_type": "raw",
    "source": [
     "# PROJECT_SCOPE sample\n",
     "# remove/process 100's of csv files, do process\n",
     "# access data & make copy to sample with hypothesis code\n",
     "# find all csv in given folder, or search for filename.csv recursively in x folders\n",
     "# sample csv with pandas df.headread for empty or other,\n",
     "# If it looks 80% ok read in full contents of csv file\n",
     "# CODE LEVEL def function():\n",
     "# function documentation\n",
     "# read in file, loop over list of files via os.listdir(), skipping non csv files\n",
     "# create CSV reader object, read file, use lin_num attribute to triage skipping\n",
     "# create CSV writer object and write out read-in data to new file"
    ],
    "metadata": {
     "collapsed": false
    }
   }
  }
 },
 "nbformat": 4,
 "nbformat_minor": 0
}