{
 "cells": [
  {
   "cell_type": "code",
   "execution_count": 1,
   "metadata": {
    "collapsed": true
   },
   "outputs": [
    {
     "name": "stdout",
     "output_type": "stream",
     "text": [
      "Traceback (most recent call last):\r\n",
      "  File \"/Users/vanessawilson/anaconda3/bin/conda\", line 12, in <module>\r\n",
      "    from conda.cli import main\r\n",
      "ModuleNotFoundError: No module named 'conda'\r\n"
     ]
    },
    {
     "ename": "NameError",
     "evalue": "name 'combined' is not defined",
     "output_type": "error",
     "traceback": [
      "\u001B[0;31m---------------------------------------------------------------------------\u001B[0m",
      "\u001B[0;31mNameError\u001B[0m                                 Traceback (most recent call last)",
      "\u001B[0;32m<ipython-input-1-666b442f4794>\u001B[0m in \u001B[0;36m<module>\u001B[0;34m\u001B[0m\n\u001B[1;32m      6\u001B[0m \u001B[0;32mimport\u001B[0m \u001B[0mmissingno\u001B[0m \u001B[0;32mas\u001B[0m \u001B[0mmsno\u001B[0m\u001B[0;34m\u001B[0m\u001B[0;34m\u001B[0m\u001B[0m\n\u001B[1;32m      7\u001B[0m \u001B[0mget_ipython\u001B[0m\u001B[0;34m(\u001B[0m\u001B[0;34m)\u001B[0m\u001B[0;34m.\u001B[0m\u001B[0mrun_line_magic\u001B[0m\u001B[0;34m(\u001B[0m\u001B[0;34m'matplotlib'\u001B[0m\u001B[0;34m,\u001B[0m \u001B[0;34m'inline'\u001B[0m\u001B[0;34m)\u001B[0m\u001B[0;34m\u001B[0m\u001B[0;34m\u001B[0m\u001B[0m\n\u001B[0;32m----> 8\u001B[0;31m \u001B[0mmsno\u001B[0m\u001B[0;34m.\u001B[0m\u001B[0mmatrix\u001B[0m\u001B[0;34m(\u001B[0m\u001B[0mcombined\u001B[0m\u001B[0;34m.\u001B[0m\u001B[0msample\u001B[0m\u001B[0;34m(\u001B[0m\u001B[0;36m250\u001B[0m\u001B[0;34m)\u001B[0m\u001B[0;34m)\u001B[0m \u001B[0;31m#combined is the df\u001B[0m\u001B[0;34m\u001B[0m\u001B[0;34m\u001B[0m\u001B[0m\n\u001B[0m\u001B[1;32m      9\u001B[0m \u001B[0;34m\u001B[0m\u001B[0m\n\u001B[1;32m     10\u001B[0m \u001B[0;34m\u001B[0m\u001B[0m\n",
      "\u001B[0;31mNameError\u001B[0m: name 'combined' is not defined"
     ]
    }
   ],
   "source": [
    "# SOURCE https://towardsdatascience.com/clean-your-data-with-unsupervised-machine-learning-8491af733595\n",
    "# FILENAME unsupervised_cleaning_algo.ipynb\n",
    "# DATA https://www.modernslaveryregistry.org/\n",
    "# TODO use requests to access the url data.\n",
    "#TODO is there a formating function or will I need to create one if the data is .data vs simple CSV ?\n",
    "\n",
    "!conda install -c conda-forge missingno — y\n",
    "import missingno as msno\n",
    "%matplotlib inline\n",
    "msno.matrix(combined.sample(250)) #combined is the df\n"
   ]
  },
  {
   "cell_type": "code",
   "execution_count": null,
   "outputs": [],
   "source": [
    "#The data frame is called 'combined'\n",
    "def uniqueWords(X):\n",
    "    X = X.split(' ')\n",
    "    X = set(X)\n",
    "    X = len(X)\n",
    "    return X\n",
    "combined['charCount']   = combined['text'].str.len()\n",
    "combined['wordCount']   = combined['text'].str.split(' ').str.len()\n",
    "combined['uniqueWords'] = combined['text'].apply(uniqueWords)"
   ],
   "metadata": {
    "collapsed": false,
    "pycharm": {
     "name": "#%%\n"
    }
   }
  },
  {
   "cell_type": "code",
   "execution_count": 2,
   "outputs": [
    {
     "ename": "NameError",
     "evalue": "name 'chartify' is not defined",
     "output_type": "error",
     "traceback": [
      "\u001B[0;31m---------------------------------------------------------------------------\u001B[0m",
      "\u001B[0;31mNameError\u001B[0m                                 Traceback (most recent call last)",
      "\u001B[0;32m<ipython-input-2-aa92e960f966>\u001B[0m in \u001B[0;36m<module>\u001B[0;34m\u001B[0m\n\u001B[0;32m----> 1\u001B[0;31m \u001B[0mch\u001B[0m \u001B[0;34m=\u001B[0m \u001B[0mchartify\u001B[0m\u001B[0;34m.\u001B[0m\u001B[0mChart\u001B[0m\u001B[0;34m(\u001B[0m\u001B[0mblank_labels\u001B[0m\u001B[0;34m=\u001B[0m\u001B[0;32mTrue\u001B[0m\u001B[0;34m)\u001B[0m\u001B[0;34m\u001B[0m\u001B[0;34m\u001B[0m\u001B[0m\n\u001B[0m\u001B[1;32m      2\u001B[0m ch.plot.scatter(\n\u001B[1;32m      3\u001B[0m     \u001B[0mdata_frame\u001B[0m\u001B[0;34m=\u001B[0m\u001B[0mcombined\u001B[0m\u001B[0;34m,\u001B[0m\u001B[0;34m\u001B[0m\u001B[0;34m\u001B[0m\u001B[0m\n\u001B[1;32m      4\u001B[0m     \u001B[0mx_column\u001B[0m\u001B[0;34m=\u001B[0m\u001B[0;34m'wordCount'\u001B[0m\u001B[0;34m,\u001B[0m\u001B[0;34m\u001B[0m\u001B[0;34m\u001B[0m\u001B[0m\n\u001B[1;32m      5\u001B[0m     \u001B[0my_column\u001B[0m\u001B[0;34m=\u001B[0m\u001B[0;34m'uniqueWords'\u001B[0m\u001B[0;34m,\u001B[0m\u001B[0;34m\u001B[0m\u001B[0;34m\u001B[0m\u001B[0m\n",
      "\u001B[0;31mNameError\u001B[0m: name 'chartify' is not defined"
     ]
    }
   ],
   "source": [
    "ch = chartify.Chart(blank_labels=True)\n",
    "ch.plot.scatter(\n",
    "    data_frame=combined,\n",
    "    x_column='wordCount',\n",
    "    y_column='uniqueWords',\n",
    "    size_column='charCount',\n",
    "    alpha = 0.3)\n",
    "ch.set_title(\"Text data quality\")\n",
    "ch.set_subtitle(\"Size is the character count\")\n",
    "ch.axes.set_yaxis_label('Unique words')\n",
    "ch.axes.set_xaxis_label('Total words')\n",
    "ch.show()"
   ],
   "metadata": {
    "collapsed": false,
    "pycharm": {
     "name": "#%%\n"
    }
   }
  },
  {
   "cell_type": "code",
   "execution_count": 3,
   "outputs": [
    {
     "ename": "ModuleNotFoundError",
     "evalue": "No module named 'sklearn'",
     "output_type": "error",
     "traceback": [
      "\u001B[0;31m---------------------------------------------------------------------------\u001B[0m",
      "\u001B[0;31mModuleNotFoundError\u001B[0m                       Traceback (most recent call last)",
      "\u001B[0;32m<ipython-input-3-ef21cd0a79f6>\u001B[0m in \u001B[0;36m<module>\u001B[0;34m\u001B[0m\n\u001B[0;32m----> 1\u001B[0;31m \u001B[0;32mfrom\u001B[0m \u001B[0msklearn\u001B[0m\u001B[0;34m.\u001B[0m\u001B[0mcluster\u001B[0m \u001B[0;32mimport\u001B[0m \u001B[0mKMeans\u001B[0m\u001B[0;34m\u001B[0m\u001B[0;34m\u001B[0m\u001B[0m\n\u001B[0m\u001B[1;32m      2\u001B[0m \u001B[0;32mfrom\u001B[0m \u001B[0msklearn\u001B[0m\u001B[0;34m.\u001B[0m\u001B[0mpreprocessing\u001B[0m \u001B[0;32mimport\u001B[0m \u001B[0mStandardScaler\u001B[0m\u001B[0;34m\u001B[0m\u001B[0;34m\u001B[0m\u001B[0m\n\u001B[1;32m      3\u001B[0m \u001B[0;31m#The data frame is called 'combined'\u001B[0m\u001B[0;34m\u001B[0m\u001B[0;34m\u001B[0m\u001B[0;34m\u001B[0m\u001B[0m\n\u001B[1;32m      4\u001B[0m \u001B[0mX\u001B[0m \u001B[0;34m=\u001B[0m \u001B[0mcombined\u001B[0m\u001B[0;34m[\u001B[0m\u001B[0;34m[\u001B[0m\u001B[0;34m'charCount'\u001B[0m\u001B[0;34m,\u001B[0m\u001B[0;34m'wordCount'\u001B[0m\u001B[0;34m,\u001B[0m\u001B[0;34m'uniqueWords'\u001B[0m\u001B[0;34m]\u001B[0m\u001B[0;34m]\u001B[0m\u001B[0;34m\u001B[0m\u001B[0;34m\u001B[0m\u001B[0m\n\u001B[1;32m      5\u001B[0m \u001B[0mscaler\u001B[0m \u001B[0;34m=\u001B[0m \u001B[0mStandardScaler\u001B[0m\u001B[0;34m(\u001B[0m\u001B[0;34m)\u001B[0m\u001B[0;34m\u001B[0m\u001B[0;34m\u001B[0m\u001B[0m\n",
      "\u001B[0;31mModuleNotFoundError\u001B[0m: No module named 'sklearn'"
     ]
    }
   ],
   "source": [
    "from sklearn.cluster import KMeans\n",
    "from sklearn.preprocessing import StandardScaler\n",
    "#The data frame is called 'combined'\n",
    "X = combined[['charCount','wordCount','uniqueWords']]\n",
    "scaler = StandardScaler()\n",
    "X = scaler.fit_transform(X)\n",
    "kmeans = KMeans(n_clusters=7, random_state=0).fit(X)\n",
    "combined['Cluster'] = kmeans.labels_"
   ],
   "metadata": {
    "collapsed": false,
    "pycharm": {
     "name": "#%%\n"
    }
   }
  },
  {
   "cell_type": "code",
   "execution_count": 4,
   "outputs": [
    {
     "ename": "NameError",
     "evalue": "name 'chartify' is not defined",
     "output_type": "error",
     "traceback": [
      "\u001B[0;31m---------------------------------------------------------------------------\u001B[0m",
      "\u001B[0;31mNameError\u001B[0m                                 Traceback (most recent call last)",
      "\u001B[0;32m<ipython-input-4-624aef041021>\u001B[0m in \u001B[0;36m<module>\u001B[0;34m\u001B[0m\n\u001B[1;32m      1\u001B[0m \u001B[0;31m# Overview\u001B[0m\u001B[0;34m\u001B[0m\u001B[0;34m\u001B[0m\u001B[0;34m\u001B[0m\u001B[0m\n\u001B[0;32m----> 2\u001B[0;31m \u001B[0mch\u001B[0m \u001B[0;34m=\u001B[0m \u001B[0mchartify\u001B[0m\u001B[0;34m.\u001B[0m\u001B[0mChart\u001B[0m\u001B[0;34m(\u001B[0m\u001B[0mblank_labels\u001B[0m\u001B[0;34m=\u001B[0m\u001B[0;32mTrue\u001B[0m\u001B[0;34m)\u001B[0m\u001B[0;34m\u001B[0m\u001B[0;34m\u001B[0m\u001B[0m\n\u001B[0m\u001B[1;32m      3\u001B[0m ch.plot.scatter(\n\u001B[1;32m      4\u001B[0m     \u001B[0mdata_frame\u001B[0m\u001B[0;34m=\u001B[0m\u001B[0mcombined\u001B[0m\u001B[0;34m,\u001B[0m\u001B[0;34m\u001B[0m\u001B[0;34m\u001B[0m\u001B[0m\n\u001B[1;32m      5\u001B[0m     \u001B[0mx_column\u001B[0m\u001B[0;34m=\u001B[0m\u001B[0;34m'wordCount'\u001B[0m\u001B[0;34m,\u001B[0m\u001B[0;34m\u001B[0m\u001B[0;34m\u001B[0m\u001B[0m\n",
      "\u001B[0;31mNameError\u001B[0m: name 'chartify' is not defined"
     ]
    }
   ],
   "source": [
    "# Overview\n",
    "ch = chartify.Chart(blank_labels=True)\n",
    "ch.plot.scatter(\n",
    "    data_frame=combined,\n",
    "    x_column='wordCount',\n",
    "    y_column='uniqueWords',\n",
    "    size_column='charCount',\n",
    "    alpha = 0.3,\n",
    "    color_column='Cluster')\n",
    "ch.set_title(\"7 clusters help to split out issues\")\n",
    "ch.set_subtitle(\"Color represents each cluster, size is the character count\")\n",
    "ch.axes.set_yaxis_label('Unique words')\n",
    "ch.axes.set_xaxis_label('Total words')\n",
    "ch.show()"
   ],
   "metadata": {
    "collapsed": false,
    "pycharm": {
     "name": "#%%\n"
    }
   }
  },
  {
   "cell_type": "code",
   "execution_count": 5,
   "outputs": [
    {
     "ename": "SyntaxError",
     "evalue": "invalid character in identifier (<ipython-input-5-fb8a9a9ea168>, line 2)",
     "output_type": "error",
     "traceback": [
      "\u001B[0;36m  File \u001B[0;32m\"<ipython-input-5-fb8a9a9ea168>\"\u001B[0;36m, line \u001B[0;32m2\u001B[0m\n\u001B[0;31m    combined.loc[combined[‘Cluster’]==1].text.values\u001B[0m\n\u001B[0m                                  ^\u001B[0m\n\u001B[0;31mSyntaxError\u001B[0m\u001B[0;31m:\u001B[0m invalid character in identifier\n"
     ]
    }
   ],
   "source": [
    "#locate cluster 1 and return the text column as a list:\n",
    "combined.loc[combined[‘Cluster’]==1].text.values"
   ],
   "metadata": {
    "collapsed": false,
    "pycharm": {
     "name": "#%%\n"
    }
   }
  },
  {
   "cell_type": "code",
   "execution_count": null,
   "outputs": [],
   "source": [
    "#locate cluster 4 and 5 and return the text column as a list:\n",
    "combined.loc[(combined['Cluster']==4) | (combined['Cluster']==5)].text.values\n"
   ],
   "metadata": {
    "collapsed": false,
    "pycharm": {
     "name": "#%%\n"
    }
   }
  }
 ],
 "metadata": {
  "kernelspec": {
   "display_name": "Python 3",
   "language": "python",
   "name": "python3"
  },
  "language_info": {
   "codemirror_mode": {
    "name": "ipython",
    "version": 2
   },
   "file_extension": ".py",
   "mimetype": "text/x-python",
   "name": "python",
   "nbconvert_exporter": "python",
   "pygments_lexer": "ipython2",
   "version": "2.7.6"
  }
 },
 "nbformat": 4,
 "nbformat_minor": 0
}