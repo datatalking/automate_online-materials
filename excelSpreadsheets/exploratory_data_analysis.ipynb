{
 "cells": [
  {
   "cell_type": "code",
   "execution_count": null,
   "metadata": {
    "collapsed": true
   },
   "outputs": [],
   "source": [
    "# SOURCE https://towardsdatascience.com/exploratory-data-analysis-eda-python-87178e35b14\n",
    "# FILENAME exploratory_data_analysis.ipynb\n",
    "# I've expanded the EDA post for more variables and flexibility\n",
    "# in future we will expand this for more data types\n",
    "# current csv\n",
    "# planned, tsv, pdf, txt, doc, tsv, json and sql(someday)\n",
    "# data cleaning can/should be easier and not such a time vampire\n",
    "\n",
    "def eda_options():\n",
    "    \"\"\"main menu eda options\"\"\"\n",
    "    data_sourcing = ''\n",
    "    data_cleaning = ''\n",
    "    univariate_analysis = ''\n",
    "    bivariate_analysis = ''\n",
    "    multivariate_analysis = ''\n",
    "\n",
    "    data_sourcing = [\"public_data\", \"private_data\"]\n",
    "    \"\"\"Data Sourcing is the process of finding and loading the data into our system.\\\n",
    "    Broadly there are two ways in which we can find data\"\"\"\n",
    "    data_sourcing_links = ['https://data.gov',\n",
    "                           'https://data.gov.uk',\n",
    "                           'https://data.gov.in',\n",
    "                           'https://www.kaggle.com/',\n",
    "                           'https://archive.ics.uci.edu/ml/index.php',\n",
    "                           'https://github.com/awesomedata/awesome-public-datasets]']\n",
    "    data_cleaning = ['Missing Values', 'Incorrect Format',\n",
    "                     'Incorrect Headers', 'Anomalies/Outliers']\n",
    "\n",
    "    sample_dirty_data = 'https://raw.githubusercontent.com/Kaushik-Varma/Marketing_Data_Analysis/master/Marketing_Analysis.csv'"
   ]
  },
  {
   "cell_type": "code",
   "execution_count": 1,
   "outputs": [
    {
     "name": "stderr",
     "output_type": "stream",
     "text": [
      "/Users/vanessawilson/sbox/test_jupyter/venv/lib/python3.8/site-packages/IPython/core/interactiveshell.py:3165: DtypeWarning: Columns (0,1,2,3,11,14,15,16) have mixed types.Specify dtype option on import or set low_memory=False.\n",
      "  has_raised = await self.run_ast_nodes(code_ast.body, cell_name,\n"
     ]
    },
    {
     "data": {
      "text/plain": "          banking marketing Unnamed: 1                    Unnamed: 2  \\\n0      customer id and age.        NaN  Customer salary and balance.   \n1                customerid        age                        salary   \n2                         1         58                        100000   \n3                         2         44                         60000   \n4                         3         33                        120000   \n...                     ...        ...                           ...   \n45208                 45207       51.0                         60000   \n45209                 45208       71.0                         55000   \n45210                 45209       72.0                         55000   \n45211                 45210       57.0                         20000   \n45212                 45211       37.0                        120000   \n\n      Unnamed: 3                                         Unnamed: 4  \\\n0            NaN  Customer marital status and job with education...   \n1        balance                                            marital   \n2           2143                                            married   \n3             29                                             single   \n4              2                                            married   \n...          ...                                                ...   \n45208        825                                            married   \n45209       1729                                           divorced   \n45210       5715                                            married   \n45211        668                                            married   \n45212       2971                                            married   \n\n                   Unnamed: 5                                  Unnamed: 6  \\\n0                         NaN  particular customer before targeted or not   \n1                      jobedu                                    targeted   \n2         management,tertiary                                         yes   \n3        technician,secondary                                         yes   \n4      entrepreneur,secondary                                         yes   \n...                       ...                                         ...   \n45208     technician,tertiary                                         yes   \n45209         retired,primary                                         yes   \n45210       retired,secondary                                         yes   \n45211   blue-collar,secondary                                         yes   \n45212  entrepreneur,secondary                                         yes   \n\n      Unnamed: 7                          Unnamed: 8 Unnamed: 9   Unnamed: 10  \\\n0            NaN  Loan types: loans or housing loans        NaN  Contact type   \n1        default                             housing       loan       contact   \n2             no                                 yes         no       unknown   \n3             no                                 yes         no       unknown   \n4             no                                 yes        yes       unknown   \n...          ...                                 ...        ...           ...   \n45208         no                                  no         no      cellular   \n45209         no                                  no         no      cellular   \n45210         no                                  no         no      cellular   \n45211         no                                  no         no     telephone   \n45212         no                                  no         no      cellular   \n\n      Unnamed: 11       Unnamed: 12           Unnamed: 13 Unnamed: 14  \\\n0             NaN  month of contact      duration of call         NaN   \n1             day             month              duration    campaign   \n2               5         may, 2017               261 sec           1   \n3               5         may, 2017               151 sec           1   \n4               5         may, 2017                76 sec           1   \n...           ...               ...                   ...         ...   \n45208          17         nov, 2017  16.2833333333333 min           3   \n45209          17         nov, 2017               7.6 min           2   \n45210          17         nov, 2017  18.7833333333333 min           5   \n45211          17         nov, 2017  8.46666666666667 min           4   \n45212          17         nov, 2017  6.01666666666667 min           2   \n\n      Unnamed: 15 Unnamed: 16                  Unnamed: 17  \\\n0             NaN         NaN  outcome of previous contact   \n1           pdays    previous                     poutcome   \n2              -1           0                      unknown   \n3              -1           0                      unknown   \n4              -1           0                      unknown   \n...           ...         ...                          ...   \n45208          -1           0                      unknown   \n45209          -1           0                      unknown   \n45210         184           3                      success   \n45211          -1           0                      unknown   \n45212         188          11                        other   \n\n                                   Unnamed: 18  \n0      response of customer after call happned  \n1                                     response  \n2                                           no  \n3                                           no  \n4                                           no  \n...                                        ...  \n45208                                      yes  \n45209                                      yes  \n45210                                      yes  \n45211                                       no  \n45212                                       no  \n\n[45213 rows x 19 columns]",
      "text/html": "<div>\n<style scoped>\n    .dataframe tbody tr th:only-of-type {\n        vertical-align: middle;\n    }\n\n    .dataframe tbody tr th {\n        vertical-align: top;\n    }\n\n    .dataframe thead th {\n        text-align: right;\n    }\n</style>\n<table border=\"1\" class=\"dataframe\">\n  <thead>\n    <tr style=\"text-align: right;\">\n      <th></th>\n      <th>banking marketing</th>\n      <th>Unnamed: 1</th>\n      <th>Unnamed: 2</th>\n      <th>Unnamed: 3</th>\n      <th>Unnamed: 4</th>\n      <th>Unnamed: 5</th>\n      <th>Unnamed: 6</th>\n      <th>Unnamed: 7</th>\n      <th>Unnamed: 8</th>\n      <th>Unnamed: 9</th>\n      <th>Unnamed: 10</th>\n      <th>Unnamed: 11</th>\n      <th>Unnamed: 12</th>\n      <th>Unnamed: 13</th>\n      <th>Unnamed: 14</th>\n      <th>Unnamed: 15</th>\n      <th>Unnamed: 16</th>\n      <th>Unnamed: 17</th>\n      <th>Unnamed: 18</th>\n    </tr>\n  </thead>\n  <tbody>\n    <tr>\n      <th>0</th>\n      <td>customer id and age.</td>\n      <td>NaN</td>\n      <td>Customer salary and balance.</td>\n      <td>NaN</td>\n      <td>Customer marital status and job with education...</td>\n      <td>NaN</td>\n      <td>particular customer before targeted or not</td>\n      <td>NaN</td>\n      <td>Loan types: loans or housing loans</td>\n      <td>NaN</td>\n      <td>Contact type</td>\n      <td>NaN</td>\n      <td>month of contact</td>\n      <td>duration of call</td>\n      <td>NaN</td>\n      <td>NaN</td>\n      <td>NaN</td>\n      <td>outcome of previous contact</td>\n      <td>response of customer after call happned</td>\n    </tr>\n    <tr>\n      <th>1</th>\n      <td>customerid</td>\n      <td>age</td>\n      <td>salary</td>\n      <td>balance</td>\n      <td>marital</td>\n      <td>jobedu</td>\n      <td>targeted</td>\n      <td>default</td>\n      <td>housing</td>\n      <td>loan</td>\n      <td>contact</td>\n      <td>day</td>\n      <td>month</td>\n      <td>duration</td>\n      <td>campaign</td>\n      <td>pdays</td>\n      <td>previous</td>\n      <td>poutcome</td>\n      <td>response</td>\n    </tr>\n    <tr>\n      <th>2</th>\n      <td>1</td>\n      <td>58</td>\n      <td>100000</td>\n      <td>2143</td>\n      <td>married</td>\n      <td>management,tertiary</td>\n      <td>yes</td>\n      <td>no</td>\n      <td>yes</td>\n      <td>no</td>\n      <td>unknown</td>\n      <td>5</td>\n      <td>may, 2017</td>\n      <td>261 sec</td>\n      <td>1</td>\n      <td>-1</td>\n      <td>0</td>\n      <td>unknown</td>\n      <td>no</td>\n    </tr>\n    <tr>\n      <th>3</th>\n      <td>2</td>\n      <td>44</td>\n      <td>60000</td>\n      <td>29</td>\n      <td>single</td>\n      <td>technician,secondary</td>\n      <td>yes</td>\n      <td>no</td>\n      <td>yes</td>\n      <td>no</td>\n      <td>unknown</td>\n      <td>5</td>\n      <td>may, 2017</td>\n      <td>151 sec</td>\n      <td>1</td>\n      <td>-1</td>\n      <td>0</td>\n      <td>unknown</td>\n      <td>no</td>\n    </tr>\n    <tr>\n      <th>4</th>\n      <td>3</td>\n      <td>33</td>\n      <td>120000</td>\n      <td>2</td>\n      <td>married</td>\n      <td>entrepreneur,secondary</td>\n      <td>yes</td>\n      <td>no</td>\n      <td>yes</td>\n      <td>yes</td>\n      <td>unknown</td>\n      <td>5</td>\n      <td>may, 2017</td>\n      <td>76 sec</td>\n      <td>1</td>\n      <td>-1</td>\n      <td>0</td>\n      <td>unknown</td>\n      <td>no</td>\n    </tr>\n    <tr>\n      <th>...</th>\n      <td>...</td>\n      <td>...</td>\n      <td>...</td>\n      <td>...</td>\n      <td>...</td>\n      <td>...</td>\n      <td>...</td>\n      <td>...</td>\n      <td>...</td>\n      <td>...</td>\n      <td>...</td>\n      <td>...</td>\n      <td>...</td>\n      <td>...</td>\n      <td>...</td>\n      <td>...</td>\n      <td>...</td>\n      <td>...</td>\n      <td>...</td>\n    </tr>\n    <tr>\n      <th>45208</th>\n      <td>45207</td>\n      <td>51.0</td>\n      <td>60000</td>\n      <td>825</td>\n      <td>married</td>\n      <td>technician,tertiary</td>\n      <td>yes</td>\n      <td>no</td>\n      <td>no</td>\n      <td>no</td>\n      <td>cellular</td>\n      <td>17</td>\n      <td>nov, 2017</td>\n      <td>16.2833333333333 min</td>\n      <td>3</td>\n      <td>-1</td>\n      <td>0</td>\n      <td>unknown</td>\n      <td>yes</td>\n    </tr>\n    <tr>\n      <th>45209</th>\n      <td>45208</td>\n      <td>71.0</td>\n      <td>55000</td>\n      <td>1729</td>\n      <td>divorced</td>\n      <td>retired,primary</td>\n      <td>yes</td>\n      <td>no</td>\n      <td>no</td>\n      <td>no</td>\n      <td>cellular</td>\n      <td>17</td>\n      <td>nov, 2017</td>\n      <td>7.6 min</td>\n      <td>2</td>\n      <td>-1</td>\n      <td>0</td>\n      <td>unknown</td>\n      <td>yes</td>\n    </tr>\n    <tr>\n      <th>45210</th>\n      <td>45209</td>\n      <td>72.0</td>\n      <td>55000</td>\n      <td>5715</td>\n      <td>married</td>\n      <td>retired,secondary</td>\n      <td>yes</td>\n      <td>no</td>\n      <td>no</td>\n      <td>no</td>\n      <td>cellular</td>\n      <td>17</td>\n      <td>nov, 2017</td>\n      <td>18.7833333333333 min</td>\n      <td>5</td>\n      <td>184</td>\n      <td>3</td>\n      <td>success</td>\n      <td>yes</td>\n    </tr>\n    <tr>\n      <th>45211</th>\n      <td>45210</td>\n      <td>57.0</td>\n      <td>20000</td>\n      <td>668</td>\n      <td>married</td>\n      <td>blue-collar,secondary</td>\n      <td>yes</td>\n      <td>no</td>\n      <td>no</td>\n      <td>no</td>\n      <td>telephone</td>\n      <td>17</td>\n      <td>nov, 2017</td>\n      <td>8.46666666666667 min</td>\n      <td>4</td>\n      <td>-1</td>\n      <td>0</td>\n      <td>unknown</td>\n      <td>no</td>\n    </tr>\n    <tr>\n      <th>45212</th>\n      <td>45211</td>\n      <td>37.0</td>\n      <td>120000</td>\n      <td>2971</td>\n      <td>married</td>\n      <td>entrepreneur,secondary</td>\n      <td>yes</td>\n      <td>no</td>\n      <td>no</td>\n      <td>no</td>\n      <td>cellular</td>\n      <td>17</td>\n      <td>nov, 2017</td>\n      <td>6.01666666666667 min</td>\n      <td>2</td>\n      <td>188</td>\n      <td>11</td>\n      <td>other</td>\n      <td>no</td>\n    </tr>\n  </tbody>\n</table>\n<p>45213 rows × 19 columns</p>\n</div>"
     },
     "execution_count": 1,
     "metadata": {},
     "output_type": "execute_result"
    }
   ],
   "source": [
    "import numpy as np\n",
    "import pandas as pd\n",
    "import seaborn as sns\n",
    "import matplotlib.pyplot as plt\n",
    "import requests\n",
    "import io\n",
    "%matplotlib inline\n",
    "\n",
    "# Read the data set of \"marketing analysis\"\n",
    "# TODO prompt user for 'filename' + 'location'\n",
    "# if location is local then os.path whatever\n",
    "# if location is url then URL + resquests + io\n",
    "# SOURCE https://stackoverflow.com/questions/32400867/pandas-read-csv-from-url\n",
    "url = \"https://raw.githubusercontent.com/Kaushik-Varma/Marketing_Data_Analysis/master/Marketing_Analysis.csv\"\n",
    "s = requests.get(url).content\n",
    "c = pd.read_csv(io.StringIO(s.decode('utf-8')))\n",
    "data = pd.read_csv(url)\n",
    "data\n",
    "# should output top 5 bottom 5 of dataframe in grid"
   ],
   "metadata": {
    "collapsed": false,
    "pycharm": {
     "name": "#%%\n"
    }
   }
  },
  {
   "cell_type": "code",
   "execution_count": 3,
   "outputs": [
    {
     "name": "stderr",
     "output_type": "stream",
     "text": [
      "/Users/vanessawilson/sbox/test_jupyter/venv/lib/python3.8/site-packages/IPython/core/interactiveshell.py:3165: DtypeWarning: Columns (0,1,2,3,11,14,15,16) have mixed types.Specify dtype option on import or set low_memory=False.\n",
      "  has_raised = await self.run_ast_nodes(code_ast.body, cell_name,\n"
     ]
    },
    {
     "data": {
      "text/plain": "   customerid   age  salary  balance  marital                  jobedu  \\\n0           1  58.0  100000     2143  married     management,tertiary   \n1           2  44.0   60000       29   single    technician,secondary   \n2           3  33.0  120000        2  married  entrepreneur,secondary   \n3           4  47.0   20000     1506  married     blue-collar,unknown   \n4           5  33.0       0        1   single         unknown,unknown   \n\n  targeted default housing loan  contact  day      month duration  campaign  \\\n0      yes      no     yes   no  unknown    5  may, 2017  261 sec         1   \n1      yes      no     yes   no  unknown    5  may, 2017  151 sec         1   \n2      yes      no     yes  yes  unknown    5  may, 2017   76 sec         1   \n3       no      no     yes   no  unknown    5  may, 2017   92 sec         1   \n4       no      no      no   no  unknown    5  may, 2017  198 sec         1   \n\n   pdays  previous poutcome response  \n0     -1         0  unknown       no  \n1     -1         0  unknown       no  \n2     -1         0  unknown       no  \n3     -1         0  unknown       no  \n4     -1         0  unknown       no  ",
      "text/html": "<div>\n<style scoped>\n    .dataframe tbody tr th:only-of-type {\n        vertical-align: middle;\n    }\n\n    .dataframe tbody tr th {\n        vertical-align: top;\n    }\n\n    .dataframe thead th {\n        text-align: right;\n    }\n</style>\n<table border=\"1\" class=\"dataframe\">\n  <thead>\n    <tr style=\"text-align: right;\">\n      <th></th>\n      <th>customerid</th>\n      <th>age</th>\n      <th>salary</th>\n      <th>balance</th>\n      <th>marital</th>\n      <th>jobedu</th>\n      <th>targeted</th>\n      <th>default</th>\n      <th>housing</th>\n      <th>loan</th>\n      <th>contact</th>\n      <th>day</th>\n      <th>month</th>\n      <th>duration</th>\n      <th>campaign</th>\n      <th>pdays</th>\n      <th>previous</th>\n      <th>poutcome</th>\n      <th>response</th>\n    </tr>\n  </thead>\n  <tbody>\n    <tr>\n      <th>0</th>\n      <td>1</td>\n      <td>58.0</td>\n      <td>100000</td>\n      <td>2143</td>\n      <td>married</td>\n      <td>management,tertiary</td>\n      <td>yes</td>\n      <td>no</td>\n      <td>yes</td>\n      <td>no</td>\n      <td>unknown</td>\n      <td>5</td>\n      <td>may, 2017</td>\n      <td>261 sec</td>\n      <td>1</td>\n      <td>-1</td>\n      <td>0</td>\n      <td>unknown</td>\n      <td>no</td>\n    </tr>\n    <tr>\n      <th>1</th>\n      <td>2</td>\n      <td>44.0</td>\n      <td>60000</td>\n      <td>29</td>\n      <td>single</td>\n      <td>technician,secondary</td>\n      <td>yes</td>\n      <td>no</td>\n      <td>yes</td>\n      <td>no</td>\n      <td>unknown</td>\n      <td>5</td>\n      <td>may, 2017</td>\n      <td>151 sec</td>\n      <td>1</td>\n      <td>-1</td>\n      <td>0</td>\n      <td>unknown</td>\n      <td>no</td>\n    </tr>\n    <tr>\n      <th>2</th>\n      <td>3</td>\n      <td>33.0</td>\n      <td>120000</td>\n      <td>2</td>\n      <td>married</td>\n      <td>entrepreneur,secondary</td>\n      <td>yes</td>\n      <td>no</td>\n      <td>yes</td>\n      <td>yes</td>\n      <td>unknown</td>\n      <td>5</td>\n      <td>may, 2017</td>\n      <td>76 sec</td>\n      <td>1</td>\n      <td>-1</td>\n      <td>0</td>\n      <td>unknown</td>\n      <td>no</td>\n    </tr>\n    <tr>\n      <th>3</th>\n      <td>4</td>\n      <td>47.0</td>\n      <td>20000</td>\n      <td>1506</td>\n      <td>married</td>\n      <td>blue-collar,unknown</td>\n      <td>no</td>\n      <td>no</td>\n      <td>yes</td>\n      <td>no</td>\n      <td>unknown</td>\n      <td>5</td>\n      <td>may, 2017</td>\n      <td>92 sec</td>\n      <td>1</td>\n      <td>-1</td>\n      <td>0</td>\n      <td>unknown</td>\n      <td>no</td>\n    </tr>\n    <tr>\n      <th>4</th>\n      <td>5</td>\n      <td>33.0</td>\n      <td>0</td>\n      <td>1</td>\n      <td>single</td>\n      <td>unknown,unknown</td>\n      <td>no</td>\n      <td>no</td>\n      <td>no</td>\n      <td>no</td>\n      <td>unknown</td>\n      <td>5</td>\n      <td>may, 2017</td>\n      <td>198 sec</td>\n      <td>1</td>\n      <td>-1</td>\n      <td>0</td>\n      <td>unknown</td>\n      <td>no</td>\n    </tr>\n  </tbody>\n</table>\n</div>"
     },
     "execution_count": 3,
     "metadata": {},
     "output_type": "execute_result"
    }
   ],
   "source": [
    "# depending upon output you may see top rows, columns or headers that contain data you don't want\n",
    "# in this example we need to fix rows and columns\n",
    "# we will ignore first two rows\n",
    "import numpy as np\n",
    "import pandas as pd\n",
    "import seaborn as sns\n",
    "import matplotlib.pyplot as plt\n",
    "import requests\n",
    "import io\n",
    "%matplotlib inline\n",
    "\n",
    "# Read the data set of \"marketing analysis\"\n",
    "# TODO prompt user for 'filename' + 'location'\n",
    "# if location is local then os.path whatever\n",
    "# if location is url then URL + resquests + io\n",
    "# SOURCE https://stackoverflow.com/questions/32400867/pandas-read-csv-from-url\n",
    "url = \"https://raw.githubusercontent.com/Kaushik-Varma/Marketing_Data_Analysis/master/Marketing_Analysis.csv\"\n",
    "s = requests.get(url).content\n",
    "c = pd.read_csv(io.StringIO(s.decode('utf-8')))\n",
    "data = pd.read_csv(url,skiprows = 2)\n",
    "\n",
    "# we also want only the top 5 rows\n",
    "data.head()\n",
    "\n"
   ],
   "metadata": {
    "collapsed": false,
    "pycharm": {
     "name": "#%%\n"
    }
   }
  },
  {
   "cell_type": "code",
   "execution_count": 4,
   "outputs": [],
   "source": [
    "# poof we ran the same routine but didnt need first two rows, now they are gone.\n",
    "# now we need to do more fixing rows and columns herein FRC(fixing rows columns)\n",
    "# optional steps\n",
    "# 1. delete summary rows and columns in dataset\n",
    "# 2. delete header and or footer rows on x pages or all\n",
    "# 3. delete extra rows that are blank, remove page numbers etc\n",
    "# 4. merge different columns for data comprehension\n",
    "# 5. split one or more columns for data comprehension/requirements\n",
    "# 6. add formatted columns names, muy importante\n",
    "\n",
    "# since column2 doesn't seem to have much importance we will drop it.\n",
    "# this is idosyncratic but many customer_id are quite useful\n",
    "\n",
    "data.drop('customerid', axis = 1, inplace = True)\n"
   ],
   "metadata": {
    "collapsed": false,
    "pycharm": {
     "name": "#%%\n"
    }
   }
  },
  {
   "cell_type": "code",
   "execution_count": 5,
   "outputs": [
    {
     "ename": "SyntaxError",
     "evalue": "unmatched ']' (<ipython-input-5-7ac2d73116d3>, line 5)",
     "output_type": "error",
     "traceback": [
      "\u001B[0;36m  File \u001B[0;32m\"<ipython-input-5-7ac2d73116d3>\"\u001B[0;36m, line \u001B[0;32m5\u001B[0m\n\u001B[0;31m    data['education'] = data]\u001B[0m\n\u001B[0m                            ^\u001B[0m\n\u001B[0;31mSyntaxError\u001B[0m\u001B[0;31m:\u001B[0m unmatched ']'\n"
     ]
    }
   ],
   "source": [
    "# seperate (column jobedu as management,tertiary)\n",
    "# new column job as management\n",
    "# new column edu as tertiary, also what does secondary or tertiary mean as they are vague\n",
    "data['job'] = data[\"jobedu\"].apply(lambda x: x.split(\",\")[0])\n",
    "data['education'] = data[\"jobedu\"].apply(lambda x: x.split(\",\")[1])\n",
    "# for future neural net, will need samples of similar dirty data"
   ],
   "metadata": {
    "collapsed": false,
    "pycharm": {
     "name": "#%%\n"
    }
   }
  }
 ],
 "metadata": {
  "kernelspec": {
   "display_name": "Python 3",
   "language": "python",
   "name": "python3"
  },
  "language_info": {
   "codemirror_mode": {
    "name": "ipython",
    "version": 2
   },
   "file_extension": ".py",
   "mimetype": "text/x-python",
   "name": "python",
   "nbconvert_exporter": "python",
   "pygments_lexer": "ipython2",
   "version": "2.7.6"
  }
 },
 "nbformat": 4,
 "nbformat_minor": 0
}